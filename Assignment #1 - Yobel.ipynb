{
 "cells": [
  {
   "cell_type": "code",
   "execution_count": 5,
   "metadata": {},
   "outputs": [
    {
     "name": "stdout",
     "output_type": "stream",
     "text": [
      "Siapakah namamu ?: Yobel\n",
      "Berapakah usiamu ?: 25\n",
      "Berapakah tinggimu ?: 173\n",
      "Nama saya Yobel, umur saya 25 tahun dan tinggi saya 173.0 cm.\n"
     ]
    }
   ],
   "source": [
    "#Fungsi Soal 1\n",
    "def soal1():\n",
    "    nama = input(\"Siapakah namamu ?: \")\n",
    "    umur = int(input(\"Berapakah usiamu ?: \"))\n",
    "    tinggi = float(input(\"Berapakah tinggimu ?: \"))\n",
    "    print(f\"Nama saya {nama}, umur saya {umur} tahun dan tinggi saya {tinggi} cm.\")\n",
    "\n",
    "#Memanggil Fungsi\n",
    "soal1()"
   ]
  },
  {
   "cell_type": "code",
   "execution_count": 7,
   "metadata": {},
   "outputs": [
    {
     "name": "stdout",
     "output_type": "stream",
     "text": [
      "Fungsi ini adalah fungsi untuk menghitung luas lingkaran\n",
      "Berapakah jari - jari lingkarannya? : 7\n",
      "Luas lingkaran dengan jari-jari 7 cm adalah 154.00 cm².\n"
     ]
    }
   ],
   "source": [
    "#Fungsi Soal 2\n",
    "def soal2():\n",
    "    print(\"Fungsi ini adalah fungsi untuk menghitung luas lingkaran\")\n",
    "    pi = 22/7\n",
    "    r = int(input(\"Berapakah jari - jari lingkarannya? : \"))\n",
    "    luas = pi * r * r\n",
    "    print(f\"Luas lingkaran dengan jari-jari {r} cm adalah {luas:.2f} cm².\")\n",
    "\n",
    "#Memanggil Fungsi\n",
    "soal2()"
   ]
  },
  {
   "cell_type": "code",
   "execution_count": 8,
   "metadata": {},
   "outputs": [
    {
     "name": "stdout",
     "output_type": "stream",
     "text": [
      "Fungsi ini adalah fungsi penentuan lulus tidaknya siswa\n",
      "Berapakah nilai praktek anda ? : 70\n",
      "Berapakah nilai teori anda ? : 60\n",
      "Anda harus mengulang ujian teori.\n"
     ]
    }
   ],
   "source": [
    "#Fungsi Soal 3\n",
    "def soal3():\n",
    "    print(\"Fungsi ini adalah fungsi penentuan lulus tidaknya siswa\")\n",
    "    nilaipraktek = int(input(\"Berapakah nilai praktek anda ? : \"))\n",
    "    nilaiteori = int(input(\"Berapakah nilai teori anda ? : \"))\n",
    "    if (nilaiteori >= 70 and nilaipraktek >= 70) :\n",
    "        print(\"Selamat, Anda Lulus!\")\n",
    "    elif (nilaiteori >= 70 and nilaipraktek < 70) :\n",
    "        print(\"Anda harus mengulang ujian praktek.\")\n",
    "    elif (nilaiteori < 70 and nilaipraktek >= 70) :\n",
    "        print(\"Anda harus mengulang ujian teori.\")\n",
    "    elif (nilaiteori < 70 and nilaipraktek < 70) :\n",
    "        print(\"Anda harus mengulang ujian teori dan praktek.\")\n",
    "    \n",
    "#Memanggil Fungsi\n",
    "soal3()"
   ]
  },
  {
   "cell_type": "code",
   "execution_count": null,
   "metadata": {},
   "outputs": [],
   "source": []
  }
 ],
 "metadata": {
  "kernelspec": {
   "display_name": "Python 3",
   "language": "python",
   "name": "python3"
  },
  "language_info": {
   "codemirror_mode": {
    "name": "ipython",
    "version": 3
   },
   "file_extension": ".py",
   "mimetype": "text/x-python",
   "name": "python",
   "nbconvert_exporter": "python",
   "pygments_lexer": "ipython3",
   "version": "3.7.3"
  }
 },
 "nbformat": 4,
 "nbformat_minor": 2
}
