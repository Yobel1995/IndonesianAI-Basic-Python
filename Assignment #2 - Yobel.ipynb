{
 "cells": [
  {
   "cell_type": "markdown",
   "metadata": {},
   "source": [
    "# Assignment 2"
   ]
  },
  {
   "cell_type": "code",
   "execution_count": 4,
   "metadata": {},
   "outputs": [
    {
     "name": "stdout",
     "output_type": "stream",
     "text": [
      "Selamat datang!\n",
      "\n",
      "--Menu--\n",
      "\n",
      "1. Daftar Kontak\n",
      "2. Tambah Kontak\n",
      "3. Keluar\n",
      "Pilih menu: 1\n",
      "Nama: Fawwaz\n",
      "No.Telepon: 08123456789\n",
      "Nama: John\n",
      "No.Telepon: 08987654321\n",
      "Pilih menu: 2\n",
      "Nama: Yobel\n",
      "No. Telepon: 12351314\n",
      "Kontak berhasil ditambahkan :)\n",
      "Pilih menu: 3\n",
      "Program selesai, sampai jumpa!\n"
     ]
    }
   ],
   "source": [
    "##Program untuk menyimpan kontak serta menampilkan kontak kontak\n",
    "#Tiap kontrak terdiri atas nama dan nomor telepon\n",
    "\n",
    "def simpan_kontak():\n",
    "    x = 0\n",
    "    user = [\"Fawwaz\",\"John\"]\n",
    "    no_telp = [\"08123456789\",\"08987654321\"]\n",
    "    print(\"Selamat datang!\\n\")\n",
    "    print(\"--Menu--\\n\")\n",
    "    print(\"1. Daftar Kontak\")\n",
    "    print(\"2. Tambah Kontak\")\n",
    "    print(\"3. Keluar\")\n",
    "    while x !=3:\n",
    "        x = input(\"Pilih menu: \")\n",
    "        if x == \"1\":\n",
    "            for i in range(0,len(user)):\n",
    "                print(\"Nama: \" + user[i])\n",
    "                print(\"No.Telepon: \" + no_telp[i])\n",
    "        elif x== \"2\":\n",
    "            namabaru = input(\"Nama: \")\n",
    "            notelpbaru = input(\"No. Telepon: \")\n",
    "            user.append(namabaru)\n",
    "            no_telp.append(notelpbaru)\n",
    "            print(\"Kontak berhasil ditambahkan :)\")\n",
    "        elif x==\"3\":\n",
    "            print(\"Program selesai, sampai jumpa!\")\n",
    "            break\n",
    "        else:\n",
    "            print(\"Angka yang kamu masukkan salah\")\n",
    "\n",
    "# Program Selesai\n",
    "\n",
    "# Memanggil Program\n",
    "\n",
    "simpan_kontak()"
   ]
  },
  {
   "cell_type": "code",
   "execution_count": null,
   "metadata": {},
   "outputs": [],
   "source": []
  }
 ],
 "metadata": {
  "kernelspec": {
   "display_name": "Python 3",
   "language": "python",
   "name": "python3"
  },
  "language_info": {
   "codemirror_mode": {
    "name": "ipython",
    "version": 3
   },
   "file_extension": ".py",
   "mimetype": "text/x-python",
   "name": "python",
   "nbconvert_exporter": "python",
   "pygments_lexer": "ipython3",
   "version": "3.7.3"
  }
 },
 "nbformat": 4,
 "nbformat_minor": 2
}
